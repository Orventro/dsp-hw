{
 "cells": [
  {
   "cell_type": "code",
   "execution_count": 1,
   "metadata": {},
   "outputs": [],
   "source": [
    "from matplotlib import pyplot as plt\n",
    "import numpy as np\n",
    "import scipy as sp\n",
    "import math\n",
    "import torch\n",
    "import torchaudio"
   ]
  },
  {
   "cell_type": "code",
   "execution_count": 2,
   "metadata": {},
   "outputs": [],
   "source": [
    "rate = 48000\n",
    "T = 10\n",
    "min_freq = 20\n",
    "max_freq = 20000\n",
    "freq = torch.exp(torch.linspace(math.log(min_freq), math.log(max_freq), rate*T)) - 20\n",
    "delta = freq / rate * 2 * math.pi\n",
    "sweep = torch.sin(torch.cumsum(delta, 0))\n",
    "torchaudio.save('mysweep.wav', sweep.unsqueeze(0), rate)"
   ]
  },
  {
   "cell_type": "code",
   "execution_count": 3,
   "metadata": {},
   "outputs": [],
   "source": [
    "def get_spectr(signal):\n",
    "    spectr = torch.fft.fft(signal)\n",
    "    return spectr[1:len(spectr)//2+1]\n",
    "\n",
    "def get_signal(spectr):\n",
    "    spectr = torch.concat([torch.tensor([0]), spectr[:-1], spectr.flip(0).conj()])\n",
    "    return torch.fft.ifft(spectr).real"
   ]
  },
  {
   "cell_type": "code",
   "execution_count": 45,
   "metadata": {},
   "outputs": [],
   "source": [
    "sweep_rec, rate = torchaudio.load('sweep_record5.mp3')\n",
    "sweep_rec = sweep_rec[0]\n",
    "sweep_rec = sweep_rec[:int(len(sweep_rec)//100)*100]"
   ]
  },
  {
   "cell_type": "code",
   "execution_count": 47,
   "metadata": {},
   "outputs": [],
   "source": [
    "shift = np.argmax(sp.signal.convolve(sweep, sweep_rec, mode='valid'))\n",
    "sweep_rec = sweep_rec[shift:shift+T*rate]"
   ]
  },
  {
   "cell_type": "code",
   "execution_count": 50,
   "metadata": {},
   "outputs": [],
   "source": [
    "spectr = get_spectr(sweep)\n",
    "spectr_rec = get_spectr(sweep_rec)"
   ]
  },
  {
   "cell_type": "code",
   "execution_count": 52,
   "metadata": {},
   "outputs": [],
   "source": [
    "def get_band_borders(T, n_bands=32, min_rate=20, max_rate=24000):\n",
    "    return torch.exp(torch.linspace(math.log(min_rate), math.log(max_rate), n_bands+1))*T\n",
    "\n",
    "def get_band_energy(spectr, borders):\n",
    "    energy = []\n",
    "    for s, e in zip(borders[:-1], borders[1:]):\n",
    "        energy.append(spectr[int(s):int(e)].abs().mean())\n",
    "    return torch.tensor(energy)"
   ]
  },
  {
   "cell_type": "code",
   "execution_count": 53,
   "metadata": {},
   "outputs": [],
   "source": [
    "borders = get_band_borders(T)\n",
    "orig_bands = get_band_energy(spectr, borders)\n",
    "rec_bands = get_band_energy(spectr_rec, borders)\n",
    "gain = rec_bands/orig_bands"
   ]
  },
  {
   "cell_type": "code",
   "execution_count": 55,
   "metadata": {},
   "outputs": [],
   "source": [
    "def apply_gain(signal, gain, borders):\n",
    "    spectr = get_spectr(signal)\n",
    "    for i in range(len(borders)-1):\n",
    "        spectr[int(borders[i]):int(borders[i+1])] *= gain[i]\n",
    "    return get_signal(spectr)"
   ]
  },
  {
   "cell_type": "code",
   "execution_count": 57,
   "metadata": {},
   "outputs": [],
   "source": [
    "noise, rate = torchaudio.load('white-noise.wav')\n",
    "noise = noise[0]\n",
    "noise_gained = apply_gain(noise, gain**-1, borders)\n",
    "torchaudio.save('noise_gained.wav', noise_gained.unsqueeze(0), rate)"
   ]
  },
  {
   "cell_type": "code",
   "execution_count": 58,
   "metadata": {},
   "outputs": [],
   "source": [
    "noise_record, rate = torchaudio.load('noise_record4.mp3')\n",
    "noise_record = noise_record[0][1*rate:5*rate] # 4"
   ]
  },
  {
   "cell_type": "code",
   "execution_count": 76,
   "metadata": {},
   "outputs": [
    {
     "name": "stdout",
     "output_type": "stream",
     "text": [
      "0.9436s\n"
     ]
    }
   ],
   "source": [
    "conv = sp.signal.convolve(noise_gained.numpy(), noise_record.numpy(), mode='valid')\n",
    "shift = np.argmax(conv)\n",
    "print(f'{shift/rate:.4f}s')"
   ]
  },
  {
   "cell_type": "code",
   "execution_count": 38,
   "metadata": {},
   "outputs": [],
   "source": [
    "def deconvolve(x, y):\n",
    "    y = y[:len(x)]\n",
    "    X = np.fft.rfft(x)\n",
    "    Y = np.fft.rfft(y)\n",
    "    H = Y/X\n",
    "    h = np.fft.irfft(H)\n",
    "    return h"
   ]
  },
  {
   "cell_type": "code",
   "execution_count": 79,
   "metadata": {},
   "outputs": [],
   "source": [
    "deconv = deconvolve(noise[shift:shift+3*rate], noise_record)"
   ]
  },
  {
   "cell_type": "code",
   "execution_count": 85,
   "metadata": {},
   "outputs": [],
   "source": [
    "gt, rate = torchaudio.load('gt.wav')\n",
    "gt = gt[0]"
   ]
  },
  {
   "cell_type": "code",
   "execution_count": 94,
   "metadata": {},
   "outputs": [],
   "source": [
    "gt_conv = sp.signal.convolve(gt, deconv)\n",
    "torchaudio.save('gt_conv.wav', torch.tensor(gt_conv).float().unsqueeze(0), rate)"
   ]
  },
  {
   "cell_type": "code",
   "execution_count": null,
   "metadata": {},
   "outputs": [],
   "source": []
  }
 ],
 "metadata": {
  "kernelspec": {
   "display_name": "Python 3 (ipykernel)",
   "language": "python",
   "name": "python3"
  },
  "language_info": {
   "codemirror_mode": {
    "name": "ipython",
    "version": 3
   },
   "file_extension": ".py",
   "mimetype": "text/x-python",
   "name": "python",
   "nbconvert_exporter": "python",
   "pygments_lexer": "ipython3",
   "version": "3.10.14"
  }
 },
 "nbformat": 4,
 "nbformat_minor": 2
}
