{
 "cells": [
  {
   "cell_type": "code",
   "execution_count": 14,
   "metadata": {},
   "outputs": [],
   "source": [
    "import torchaudio\n",
    "import torch\n",
    "import pandas as pd\n",
    "from pesq import pesq\n",
    "from torchaudio.transforms import Resample"
   ]
  },
  {
   "cell_type": "code",
   "execution_count": 15,
   "metadata": {},
   "outputs": [],
   "source": [
    "voice, voice_rate = torchaudio.load('gt.wav')\n",
    "noise, noise_rate = torchaudio.load('noise.wav')\n",
    "assert voice_rate == noise_rate\n",
    "voice = voice[0]\n",
    "noise = noise[0,:len(voice)]"
   ]
  },
  {
   "cell_type": "code",
   "execution_count": 16,
   "metadata": {},
   "outputs": [],
   "source": [
    "def n2(tens):\n",
    "    return (tens*tens).sum()\n",
    "\n",
    "def norm(tens):\n",
    "    return n2(tens)**.5\n",
    "\n",
    "def sdr(ref, deg):\n",
    "    return 10*torch.log10(n2(deg) / n2(deg-ref))\n",
    "\n",
    "def si_sdr(ref, deg):\n",
    "    alpha = norm(deg*ref)/n2(deg)\n",
    "    return sdr(ref, deg*alpha)\n",
    "\n",
    "def mix(a, b, ratio_db):\n",
    "    ratio = 10 ** (ratio_db/20) / norm(a) * norm(b) # calculating amplitude ratio\n",
    "    m = (a*ratio + b) / (ratio + 1) # computing the noisy signal\n",
    "    return m * norm(a) / norm(m) # making it same volume as original"
   ]
  },
  {
   "cell_type": "code",
   "execution_count": 17,
   "metadata": {},
   "outputs": [],
   "source": [
    "r = Resample(48000, 16000)\n",
    "fnames = []\n",
    "snr_vals = [-5, 0, 5, 10]\n",
    "pesq_vals = []\n",
    "sdr_vals = []\n",
    "sisdr_vals = []\n",
    "for snr in snr_vals:\n",
    "    m = mix(voice, noise, snr)\n",
    "    fnames.append(f'mix_{snr}.wav')\n",
    "    torchaudio.save(fnames[-1], m.unsqueeze(0), noise_rate)\n",
    "    pesq_vals.append(pesq(16000, r(voice).numpy(), r(m).numpy()))\n",
    "    sdr_vals.append(float(sdr(voice, m)))\n",
    "    sisdr_vals.append(float(si_sdr(voice, m)))"
   ]
  },
  {
   "cell_type": "code",
   "execution_count": 18,
   "metadata": {},
   "outputs": [
    {
     "data": {
      "text/html": [
       "<div>\n",
       "<style scoped>\n",
       "    .dataframe tbody tr th:only-of-type {\n",
       "        vertical-align: middle;\n",
       "    }\n",
       "\n",
       "    .dataframe tbody tr th {\n",
       "        vertical-align: top;\n",
       "    }\n",
       "\n",
       "    .dataframe thead th {\n",
       "        text-align: right;\n",
       "    }\n",
       "</style>\n",
       "<table border=\"1\" class=\"dataframe\">\n",
       "  <thead>\n",
       "    <tr style=\"text-align: right;\">\n",
       "      <th></th>\n",
       "      <th>Filename</th>\n",
       "      <th>SNR</th>\n",
       "      <th>SDR</th>\n",
       "      <th>SI-SDR</th>\n",
       "      <th>PESQ</th>\n",
       "      <th>NISQA</th>\n",
       "      <th>DNSMOS</th>\n",
       "      <th>MOS</th>\n",
       "    </tr>\n",
       "  </thead>\n",
       "  <tbody>\n",
       "    <tr>\n",
       "      <th>0</th>\n",
       "      <td>mix_-5.wav</td>\n",
       "      <td>-5</td>\n",
       "      <td>-0.100994</td>\n",
       "      <td>-50.384743</td>\n",
       "      <td>1.026105</td>\n",
       "      <td></td>\n",
       "      <td></td>\n",
       "      <td></td>\n",
       "    </tr>\n",
       "    <tr>\n",
       "      <th>1</th>\n",
       "      <td>mix_0.wav</td>\n",
       "      <td>0</td>\n",
       "      <td>2.307439</td>\n",
       "      <td>-47.770924</td>\n",
       "      <td>1.033454</td>\n",
       "      <td></td>\n",
       "      <td></td>\n",
       "      <td></td>\n",
       "    </tr>\n",
       "    <tr>\n",
       "      <th>2</th>\n",
       "      <td>mix_5.wav</td>\n",
       "      <td>5</td>\n",
       "      <td>5.893706</td>\n",
       "      <td>-46.156532</td>\n",
       "      <td>1.069925</td>\n",
       "      <td></td>\n",
       "      <td></td>\n",
       "      <td></td>\n",
       "    </tr>\n",
       "    <tr>\n",
       "      <th>3</th>\n",
       "      <td>mix_10.wav</td>\n",
       "      <td>10</td>\n",
       "      <td>10.304302</td>\n",
       "      <td>-45.449520</td>\n",
       "      <td>1.181226</td>\n",
       "      <td></td>\n",
       "      <td></td>\n",
       "      <td></td>\n",
       "    </tr>\n",
       "  </tbody>\n",
       "</table>\n",
       "</div>"
      ],
      "text/plain": [
       "     Filename  SNR        SDR     SI-SDR      PESQ NISQA DNSMOS MOS\n",
       "0  mix_-5.wav   -5  -0.100994 -50.384743  1.026105                 \n",
       "1   mix_0.wav    0   2.307439 -47.770924  1.033454                 \n",
       "2   mix_5.wav    5   5.893706 -46.156532  1.069925                 \n",
       "3  mix_10.wav   10  10.304302 -45.449520  1.181226                 "
      ]
     },
     "execution_count": 18,
     "metadata": {},
     "output_type": "execute_result"
    }
   ],
   "source": [
    "df = pd.DataFrame({\n",
    "    'Filename' : fnames,\n",
    "    'SNR' : snr_vals,\n",
    "    'SDR' : sdr_vals,\n",
    "    'SI-SDR' : sisdr_vals,\n",
    "    'PESQ' : pesq_vals,\n",
    "    'NISQA' : [' ']*4,\n",
    "    'DNSMOS' : [' ']*4,\n",
    "    'MOS' : [' ']*4\n",
    "})\n",
    "df"
   ]
  },
  {
   "cell_type": "code",
   "execution_count": 19,
   "metadata": {},
   "outputs": [
    {
     "data": {
      "text/plain": [
       "'|    | Filename   |   SNR |       SDR |   SI-SDR |    PESQ | NISQA   | DNSMOS   | MOS   |\\n|---:|:-----------|------:|----------:|---------:|--------:|:--------|:---------|:------|\\n|  0 | mix_-5.wav |    -5 | -0.100994 | -50.3847 | 1.02611 |         |          |       |\\n|  1 | mix_0.wav  |     0 |  2.30744  | -47.7709 | 1.03345 |         |          |       |\\n|  2 | mix_5.wav  |     5 |  5.89371  | -46.1565 | 1.06993 |         |          |       |\\n|  3 | mix_10.wav |    10 | 10.3043   | -45.4495 | 1.18123 |         |          |       |'"
      ]
     },
     "execution_count": 19,
     "metadata": {},
     "output_type": "execute_result"
    }
   ],
   "source": [
    "df.to_markdown()"
   ]
  },
  {
   "cell_type": "code",
   "execution_count": 20,
   "metadata": {},
   "outputs": [],
   "source": [
    "\n",
    "torchaudio.save('res.wav', r(voice).unsqueeze(0), 16000)"
   ]
  },
  {
   "cell_type": "code",
   "execution_count": null,
   "metadata": {},
   "outputs": [],
   "source": []
  }
 ],
 "metadata": {
  "kernelspec": {
   "display_name": "Python 3",
   "language": "python",
   "name": "python3"
  },
  "language_info": {
   "codemirror_mode": {
    "name": "ipython",
    "version": 3
   },
   "file_extension": ".py",
   "mimetype": "text/x-python",
   "name": "python",
   "nbconvert_exporter": "python",
   "pygments_lexer": "ipython3",
   "version": "3.10.14"
  }
 },
 "nbformat": 4,
 "nbformat_minor": 2
}
